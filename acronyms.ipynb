{
 "cells": [
  {
   "cell_type": "code",
   "execution_count": 8,
   "metadata": {},
   "outputs": [
    {
     "name": "stdout",
     "output_type": "stream",
     "text": [
      "Enter the Phrase:live long life\n",
      " LLL\n"
     ]
    }
   ],
   "source": [
    "#first enter the text \n",
    "input_data = str(input(\"Enter the Phrase:\"))\n",
    "#text to bb splited by using split method \n",
    "text = input_data.split()\n",
    "a = \" \"\n",
    "for i in text:\n",
    "    a=a+str(i[0].upper())#it only take first index letter of every word in phrase\n",
    "print(a)"
   ]
  },
  {
   "cell_type": "code",
   "execution_count": null,
   "metadata": {},
   "outputs": [],
   "source": []
  }
 ],
 "metadata": {
  "kernelspec": {
   "display_name": "Python 3",
   "language": "python",
   "name": "python3"
  },
  "language_info": {
   "codemirror_mode": {
    "name": "ipython",
    "version": 3
   },
   "file_extension": ".py",
   "mimetype": "text/x-python",
   "name": "python",
   "nbconvert_exporter": "python",
   "pygments_lexer": "ipython3",
   "version": "3.7.3"
  }
 },
 "nbformat": 4,
 "nbformat_minor": 2
}
